import numpy as np
import matplotlib.pyplot as plt

# Set the size of the canvas
canvas_size = 400
# Create a blank canvas
canvas = np.zeros((canvas_size, canvas_size, 3), dtype=np.uint8)

# Create random colors
colors = np.random.randint(0, 256, (100, 3), dtype=np.uint8)

# Fill the canvas with random colored squares
for _ in range(100):
    color_idx = np.random.randint(0, len(colors))
    color = colors[color_idx]
    x = np.random.randint(0, canvas_size - 50)
    y = np.random.randint(0, canvas_size - 50)
    canvas[y:y + 50, x:x + 50] = color

# Display the image
plt.imshow(canvas)
plt.axis('off')
plt.show()
